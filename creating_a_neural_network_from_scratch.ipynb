{
  "metadata": {
    "kernelspec": {
      "display_name": "Python 3",
      "name": "python3"
    },
    "language_info": {
      "name": "python",
      "version": "3.10.13",
      "mimetype": "text/x-python",
      "codemirror_mode": {
        "name": "ipython",
        "version": 3
      },
      "pygments_lexer": "ipython3",
      "nbconvert_exporter": "python",
      "file_extension": ".py"
    },
    "kaggle": {
      "accelerator": "none",
      "dataSources": [
        {
          "sourceId": 3004,
          "databundleVersionId": 861823,
          "sourceType": "competition"
        }
      ],
      "dockerImageVersionId": 30698,
      "isInternetEnabled": false,
      "language": "python",
      "sourceType": "notebook",
      "isGpuEnabled": false
    },
    "colab": {
      "provenance": [],
      "gpuType": "T4"
    },
    "accelerator": "GPU"
  },
  "nbformat_minor": 0,
  "nbformat": 4,
  "cells": [
    {
      "cell_type": "code",
      "source": [
        "\n",
        "# IMPORTANT: RUN THIS CELL IN ORDER TO IMPORT YOUR KAGGLE DATA SOURCES\n",
        "# TO THE CORRECT LOCATION (/kaggle/input) IN YOUR NOTEBOOK,\n",
        "# THEN FEEL FREE TO DELETE THIS CELL.\n",
        "# NOTE: THIS NOTEBOOK ENVIRONMENT DIFFERS FROM KAGGLE'S PYTHON\n",
        "# ENVIRONMENT SO THERE MAY BE MISSING LIBRARIES USED BY YOUR\n",
        "# NOTEBOOK.\n",
        "\n",
        "import os\n",
        "import sys\n",
        "from tempfile import NamedTemporaryFile\n",
        "from urllib.request import urlopen\n",
        "from urllib.parse import unquote, urlparse\n",
        "from urllib.error import HTTPError\n",
        "from zipfile import ZipFile\n",
        "import tarfile\n",
        "import shutil\n",
        "\n",
        "CHUNK_SIZE = 40960\n",
        "DATA_SOURCE_MAPPING = 'digit-recognizer:https%3A%2F%2Fstorage.googleapis.com%2Fkaggle-competitions-data%2Fkaggle-v2%2F3004%2F861823%2Fbundle%2Farchive.zip%3FX-Goog-Algorithm%3DGOOG4-RSA-SHA256%26X-Goog-Credential%3Dgcp-kaggle-com%2540kaggle-161607.iam.gserviceaccount.com%252F20240521%252Fauto%252Fstorage%252Fgoog4_request%26X-Goog-Date%3D20240521T183936Z%26X-Goog-Expires%3D259200%26X-Goog-SignedHeaders%3Dhost%26X-Goog-Signature%3D4f8e97d5920fdca72c78d2b9d5556bd2b6069e26011da6320e23739e84ba6bb4440d3587b75531a712e31d4bbfbd958490e06d881008e92c5ef9ab41352b527c9021dae52f4f7faba4069309db68725db2beb35649b2170f3565d07aa55d8cb00e3b83624bd0eb8c95b712b4abc0972c0009ea2e8d568e2bfaf6c4af2474780c465bb3b12f40d3d1195bafd330374d03facebe96f336c92ffb5da3214039d1d4bcdda188327f6cfc769d6884b1009aa47544a474208faddea02e89994d4696bc3651e55cb67201da1368932c3efc5a3df8d553a43032ae70ea77e52ee7c08fce307f57f358df22b8ca67565fdd9a9920c93b76221111119ed052653b5a6c61fa'\n",
        "\n",
        "KAGGLE_INPUT_PATH='/kaggle/input'\n",
        "KAGGLE_WORKING_PATH='/kaggle/working'\n",
        "KAGGLE_SYMLINK='kaggle'\n",
        "\n",
        "!umount /kaggle/input/ 2> /dev/null\n",
        "shutil.rmtree('/kaggle/input', ignore_errors=True)\n",
        "os.makedirs(KAGGLE_INPUT_PATH, 0o777, exist_ok=True)\n",
        "os.makedirs(KAGGLE_WORKING_PATH, 0o777, exist_ok=True)\n",
        "\n",
        "try:\n",
        "  os.symlink(KAGGLE_INPUT_PATH, os.path.join(\"..\", 'input'), target_is_directory=True)\n",
        "except FileExistsError:\n",
        "  pass\n",
        "try:\n",
        "  os.symlink(KAGGLE_WORKING_PATH, os.path.join(\"..\", 'working'), target_is_directory=True)\n",
        "except FileExistsError:\n",
        "  pass\n",
        "\n",
        "for data_source_mapping in DATA_SOURCE_MAPPING.split(','):\n",
        "    directory, download_url_encoded = data_source_mapping.split(':')\n",
        "    download_url = unquote(download_url_encoded)\n",
        "    filename = urlparse(download_url).path\n",
        "    destination_path = os.path.join(KAGGLE_INPUT_PATH, directory)\n",
        "    try:\n",
        "        with urlopen(download_url) as fileres, NamedTemporaryFile() as tfile:\n",
        "            total_length = fileres.headers['content-length']\n",
        "            print(f'Downloading {directory}, {total_length} bytes compressed')\n",
        "            dl = 0\n",
        "            data = fileres.read(CHUNK_SIZE)\n",
        "            while len(data) > 0:\n",
        "                dl += len(data)\n",
        "                tfile.write(data)\n",
        "                done = int(50 * dl / int(total_length))\n",
        "                sys.stdout.write(f\"\\r[{'=' * done}{' ' * (50-done)}] {dl} bytes downloaded\")\n",
        "                sys.stdout.flush()\n",
        "                data = fileres.read(CHUNK_SIZE)\n",
        "            if filename.endswith('.zip'):\n",
        "              with ZipFile(tfile) as zfile:\n",
        "                zfile.extractall(destination_path)\n",
        "            else:\n",
        "              with tarfile.open(tfile.name) as tarfile:\n",
        "                tarfile.extractall(destination_path)\n",
        "            print(f'\\nDownloaded and uncompressed: {directory}')\n",
        "    except HTTPError as e:\n",
        "        print(f'Failed to load (likely expired) {download_url} to path {destination_path}')\n",
        "        continue\n",
        "    except OSError as e:\n",
        "        print(f'Failed to load {download_url} to path {destination_path}')\n",
        "        continue\n",
        "\n",
        "print('Data source import complete.')\n"
      ],
      "metadata": {
        "colab": {
          "base_uri": "https://localhost:8080/"
        },
        "id": "4_5PvZ2wi38V",
        "outputId": "211c6ea4-7a74-4030-86f8-a8270207b5d7"
      },
      "execution_count": 1,
      "outputs": [
        {
          "output_type": "stream",
          "name": "stdout",
          "text": [
            "Downloading digit-recognizer, 16054568 bytes compressed\n",
            "[==================================================] 16054568 bytes downloaded\n",
            "Downloaded and uncompressed: digit-recognizer\n",
            "Data source import complete.\n"
          ]
        }
      ]
    },
    {
      "cell_type": "code",
      "source": [
        "import numpy as np\n",
        "import pandas as pd\n",
        "from matplotlib import pyplot as plt\n",
        "\n",
        "\n",
        "data = pd.read_csv('/kaggle/input/digit-recognizer/train.csv')"
      ],
      "metadata": {
        "_uuid": "8f2839f25d086af736a60e9eeb907d3b93b6e0e5",
        "_cell_guid": "b1076dfc-b9ad-4769-8c92-a6c4dae69d19",
        "execution": {
          "iopub.status.busy": "2024-05-21T18:34:07.813938Z",
          "iopub.execute_input": "2024-05-21T18:34:07.814973Z",
          "iopub.status.idle": "2024-05-21T18:34:10.415066Z",
          "shell.execute_reply.started": "2024-05-21T18:34:07.814927Z",
          "shell.execute_reply": "2024-05-21T18:34:10.413931Z"
        },
        "trusted": true,
        "id": "gWXBnx5wiylD"
      },
      "execution_count": 2,
      "outputs": []
    },
    {
      "cell_type": "code",
      "source": [
        "data = np.array(data)\n",
        "data.shape\n",
        "\n",
        "m, n = data.shape\n",
        "\n",
        "np.random.shuffle(data)\n",
        "\n",
        "data_dev = data[0:1000].T\n",
        "Y_dev = data_dev[0]\n",
        "X_dev = data_dev[1:n]\n",
        "X_dev = X_dev / 255\n",
        "\n",
        "data_train = data[1000:m].T\n",
        "Y_train = data_train[0]\n",
        "X_train = data_train[1:n]\n",
        "X_train = X_train / 255\n",
        "\n",
        "_ , m_train = X_train.shape"
      ],
      "metadata": {
        "execution": {
          "iopub.status.busy": "2024-05-21T18:34:10.416882Z",
          "iopub.execute_input": "2024-05-21T18:34:10.417211Z",
          "iopub.status.idle": "2024-05-21T18:34:11.243933Z",
          "shell.execute_reply.started": "2024-05-21T18:34:10.417184Z",
          "shell.execute_reply": "2024-05-21T18:34:11.242724Z"
        },
        "trusted": true,
        "id": "ppTrlZuFiylE"
      },
      "execution_count": 3,
      "outputs": []
    },
    {
      "cell_type": "code",
      "source": [
        "Y_train"
      ],
      "metadata": {
        "execution": {
          "iopub.status.busy": "2024-05-21T18:34:11.245497Z",
          "iopub.execute_input": "2024-05-21T18:34:11.245830Z",
          "iopub.status.idle": "2024-05-21T18:34:11.255357Z",
          "shell.execute_reply.started": "2024-05-21T18:34:11.245801Z",
          "shell.execute_reply": "2024-05-21T18:34:11.253152Z"
        },
        "trusted": true,
        "colab": {
          "base_uri": "https://localhost:8080/"
        },
        "id": "DZeRm6ZTiylE",
        "outputId": "1b8bc903-af1a-4fc8-b8ba-aca864ea4d44"
      },
      "execution_count": 4,
      "outputs": [
        {
          "output_type": "execute_result",
          "data": {
            "text/plain": [
              "array([3, 8, 0, ..., 7, 4, 7])"
            ]
          },
          "metadata": {},
          "execution_count": 4
        }
      ]
    },
    {
      "cell_type": "code",
      "source": [
        "def init_params():\n",
        "    w1 = np.random.rand(10, 784) - 0.5\n",
        "    b1 = np.random.rand(10, 1) - 0.5\n",
        "    w2 = np.random.rand(10, 10) - 0.5\n",
        "    b2 = np.random.rand(10, 1) - 0.5\n",
        "\n",
        "    return w1, b1, w2, b2\n",
        "\n",
        "def ReLU(Z):\n",
        "    return np.maximum(Z, 0)\n",
        "\n",
        "def ReLU_derive(Z):\n",
        "    return Z > 0\n",
        "\n",
        "def softmax(Z):\n",
        "    A = np.exp(Z) / sum(np.exp(Z))\n",
        "    return A\n",
        "\n",
        "def forward_prop(w1, b1, w2, b2, X):\n",
        "    Z1 = w1.dot(X) + b1\n",
        "    A1 = ReLU(Z1)\n",
        "    Z2 = w2.dot(A1) + b2\n",
        "    A2 = softmax(Z2)\n",
        "\n",
        "    return Z1, A1, Z2, A2\n",
        "\n",
        "def one_hot(Y):\n",
        "    one_hot_Y = np.zeros((Y.size, Y.max() + 1))\n",
        "    one_hot_Y[np.arange(Y.size), Y] = 1\n",
        "    one_hot_Y = one_hot_Y.T\n",
        "    return one_hot_Y\n",
        "\n",
        "def backward_prop(Z1, A1, Z2, A2, w1, w2, X, Y):\n",
        "    one_hot_Y = one_hot(Y)\n",
        "    dZ2 = A2 - one_hot(Y)\n",
        "    dW2 = 1 / m * dZ2.dot(A1.T)\n",
        "    db2 = 1 / m * np.sum(dZ2)\n",
        "    dZ1 = w2.T.dot(dZ2) * ReLU_derive(Z1)\n",
        "    dW1 = 1 / m * dZ1.dot(X.T)\n",
        "    db1 = 1 / m * np.sum(dZ1)\n",
        "\n",
        "    return dW1, db1, dW2, db2\n",
        "\n",
        "def update_params(w1, b1, w2, b2, dW1, db1, dW2, db2, alpha):\n",
        "    w1 = w1 - alpha * dW1\n",
        "    b1 = b1 - alpha * db1\n",
        "    w2 = w2 - alpha * dW2\n",
        "    b2 = b2 - alpha * db2\n",
        "\n",
        "    return w1, b1, w2, b2\n",
        "\n",
        "def get_predictions(A2):\n",
        "    return np.argmax(A2, 0)\n",
        "\n",
        "def get_accuracy(predictions, Y):\n",
        "    print(predictions, Y)\n",
        "    return np.sum(predictions == Y) / Y.size\n",
        "\n",
        "def gradient_descent(X, Y, alpha, iterations):\n",
        "    w1, b1, w2, b2 = init_params()\n",
        "\n",
        "    for i in range(iterations):\n",
        "        Z1, A1, Z2, A2 = forward_prop(w1, b1, w2, b2, X)\n",
        "        dW1, db1, dW2, db2 = backward_prop(Z1, A1, Z2, A2, w1, w2, X, Y)\n",
        "        w1, b1, w2, b2 = update_params(w1, b1, w2, b2, dW1, db1, dW2, db2, alpha)\n",
        "\n",
        "        if i % 10 == 0:\n",
        "            print(\"Iteration: \", i)\n",
        "            predictions = get_predictions(A2)\n",
        "            print(get_accuracy(predictions, Y))\n",
        "\n",
        "    return w1, b1, w2, b2"
      ],
      "metadata": {
        "execution": {
          "iopub.status.busy": "2024-05-21T18:43:50.895930Z",
          "iopub.execute_input": "2024-05-21T18:43:50.896503Z",
          "iopub.status.idle": "2024-05-21T18:43:50.916017Z",
          "shell.execute_reply.started": "2024-05-21T18:43:50.896470Z",
          "shell.execute_reply": "2024-05-21T18:43:50.914356Z"
        },
        "trusted": true,
        "id": "yoOc6n2kiylF"
      },
      "execution_count": 5,
      "outputs": []
    },
    {
      "cell_type": "code",
      "source": [
        "w1, b1, w2, b2 = gradient_descent(X_train, Y_train, 0.10, 500)"
      ],
      "metadata": {
        "execution": {
          "iopub.status.busy": "2024-05-21T18:43:54.441144Z",
          "iopub.execute_input": "2024-05-21T18:43:54.442192Z",
          "iopub.status.idle": "2024-05-21T18:44:50.032651Z",
          "shell.execute_reply.started": "2024-05-21T18:43:54.442153Z",
          "shell.execute_reply": "2024-05-21T18:44:50.031407Z"
        },
        "trusted": true,
        "colab": {
          "base_uri": "https://localhost:8080/"
        },
        "id": "c_UNDtc_iylF",
        "outputId": "c975351c-86bc-4e53-daa8-293ee35b2005"
      },
      "execution_count": 6,
      "outputs": [
        {
          "output_type": "stream",
          "name": "stdout",
          "text": [
            "Iteration:  0\n",
            "[1 5 1 ... 5 1 1] [3 8 0 ... 7 4 7]\n",
            "0.11453658536585366\n",
            "Iteration:  10\n",
            "[2 6 0 ... 4 3 6] [3 8 0 ... 7 4 7]\n",
            "0.19046341463414634\n",
            "Iteration:  20\n",
            "[2 6 0 ... 9 7 6] [3 8 0 ... 7 4 7]\n",
            "0.28524390243902437\n",
            "Iteration:  30\n",
            "[2 6 0 ... 7 7 6] [3 8 0 ... 7 4 7]\n",
            "0.35321951219512193\n",
            "Iteration:  40\n",
            "[2 6 0 ... 7 7 6] [3 8 0 ... 7 4 7]\n",
            "0.4015609756097561\n",
            "Iteration:  50\n",
            "[2 8 0 ... 7 7 6] [3 8 0 ... 7 4 7]\n",
            "0.43814634146341463\n",
            "Iteration:  60\n",
            "[2 8 0 ... 7 7 7] [3 8 0 ... 7 4 7]\n",
            "0.4667317073170732\n",
            "Iteration:  70\n",
            "[2 8 0 ... 7 7 7] [3 8 0 ... 7 4 7]\n",
            "0.4921951219512195\n",
            "Iteration:  80\n",
            "[2 8 0 ... 7 7 7] [3 8 0 ... 7 4 7]\n",
            "0.5141707317073171\n",
            "Iteration:  90\n",
            "[2 8 0 ... 7 4 7] [3 8 0 ... 7 4 7]\n",
            "0.5345609756097561\n",
            "Iteration:  100\n",
            "[2 8 0 ... 7 4 9] [3 8 0 ... 7 4 7]\n",
            "0.5520243902439025\n",
            "Iteration:  110\n",
            "[2 8 0 ... 7 4 9] [3 8 0 ... 7 4 7]\n",
            "0.5704878048780487\n",
            "Iteration:  120\n",
            "[2 8 0 ... 7 4 9] [3 8 0 ... 7 4 7]\n",
            "0.5877073170731707\n",
            "Iteration:  130\n",
            "[2 8 0 ... 7 4 9] [3 8 0 ... 7 4 7]\n",
            "0.6031219512195122\n",
            "Iteration:  140\n",
            "[2 8 0 ... 7 4 9] [3 8 0 ... 7 4 7]\n",
            "0.6179756097560976\n",
            "Iteration:  150\n",
            "[2 8 0 ... 7 4 9] [3 8 0 ... 7 4 7]\n",
            "0.6312926829268293\n",
            "Iteration:  160\n",
            "[2 8 0 ... 7 4 9] [3 8 0 ... 7 4 7]\n",
            "0.6433414634146342\n",
            "Iteration:  170\n",
            "[2 8 0 ... 7 4 9] [3 8 0 ... 7 4 7]\n",
            "0.6539024390243903\n",
            "Iteration:  180\n",
            "[2 8 0 ... 7 4 9] [3 8 0 ... 7 4 7]\n",
            "0.6633170731707317\n",
            "Iteration:  190\n",
            "[2 8 0 ... 7 4 9] [3 8 0 ... 7 4 7]\n",
            "0.6731463414634147\n",
            "Iteration:  200\n",
            "[2 8 0 ... 7 4 9] [3 8 0 ... 7 4 7]\n",
            "0.6812926829268293\n",
            "Iteration:  210\n",
            "[1 8 0 ... 7 4 9] [3 8 0 ... 7 4 7]\n",
            "0.69\n",
            "Iteration:  220\n",
            "[1 8 0 ... 7 4 9] [3 8 0 ... 7 4 7]\n",
            "0.6978780487804878\n",
            "Iteration:  230\n",
            "[1 8 0 ... 7 4 9] [3 8 0 ... 7 4 7]\n",
            "0.7052926829268292\n",
            "Iteration:  240\n",
            "[1 2 0 ... 7 4 9] [3 8 0 ... 7 4 7]\n",
            "0.712\n",
            "Iteration:  250\n",
            "[1 2 0 ... 7 4 9] [3 8 0 ... 7 4 7]\n",
            "0.7190243902439024\n",
            "Iteration:  260\n",
            "[1 2 0 ... 7 4 9] [3 8 0 ... 7 4 7]\n",
            "0.7253414634146341\n",
            "Iteration:  270\n",
            "[1 8 0 ... 7 4 9] [3 8 0 ... 7 4 7]\n",
            "0.7306585365853658\n",
            "Iteration:  280\n",
            "[1 8 0 ... 7 4 9] [3 8 0 ... 7 4 7]\n",
            "0.7361219512195122\n",
            "Iteration:  290\n",
            "[1 8 0 ... 7 4 9] [3 8 0 ... 7 4 7]\n",
            "0.7424878048780488\n",
            "Iteration:  300\n",
            "[1 8 0 ... 7 4 9] [3 8 0 ... 7 4 7]\n",
            "0.7486829268292683\n",
            "Iteration:  310\n",
            "[1 8 0 ... 7 4 9] [3 8 0 ... 7 4 7]\n",
            "0.7538048780487805\n",
            "Iteration:  320\n",
            "[1 8 0 ... 7 4 9] [3 8 0 ... 7 4 7]\n",
            "0.7589024390243903\n",
            "Iteration:  330\n",
            "[1 8 0 ... 7 4 9] [3 8 0 ... 7 4 7]\n",
            "0.7638292682926829\n",
            "Iteration:  340\n",
            "[1 8 0 ... 7 4 9] [3 8 0 ... 7 4 7]\n",
            "0.7674390243902439\n",
            "Iteration:  350\n",
            "[1 8 0 ... 7 4 9] [3 8 0 ... 7 4 7]\n",
            "0.7715121951219512\n",
            "Iteration:  360\n",
            "[1 8 0 ... 7 4 9] [3 8 0 ... 7 4 7]\n",
            "0.7754634146341464\n",
            "Iteration:  370\n",
            "[1 8 0 ... 7 4 9] [3 8 0 ... 7 4 7]\n",
            "0.7800975609756098\n",
            "Iteration:  380\n",
            "[1 8 0 ... 7 4 7] [3 8 0 ... 7 4 7]\n",
            "0.784609756097561\n",
            "Iteration:  390\n",
            "[1 8 0 ... 7 4 7] [3 8 0 ... 7 4 7]\n",
            "0.7879756097560976\n",
            "Iteration:  400\n",
            "[1 8 0 ... 7 4 7] [3 8 0 ... 7 4 7]\n",
            "0.7918048780487805\n",
            "Iteration:  410\n",
            "[3 8 0 ... 7 4 7] [3 8 0 ... 7 4 7]\n",
            "0.7950487804878049\n",
            "Iteration:  420\n",
            "[3 8 0 ... 7 4 7] [3 8 0 ... 7 4 7]\n",
            "0.7977804878048781\n",
            "Iteration:  430\n",
            "[3 8 0 ... 7 4 7] [3 8 0 ... 7 4 7]\n",
            "0.8010975609756098\n",
            "Iteration:  440\n",
            "[3 8 0 ... 7 4 7] [3 8 0 ... 7 4 7]\n",
            "0.8040487804878049\n",
            "Iteration:  450\n",
            "[3 8 0 ... 7 4 7] [3 8 0 ... 7 4 7]\n",
            "0.8066585365853659\n",
            "Iteration:  460\n",
            "[3 8 0 ... 7 4 7] [3 8 0 ... 7 4 7]\n",
            "0.8091707317073171\n",
            "Iteration:  470\n",
            "[3 8 0 ... 7 4 7] [3 8 0 ... 7 4 7]\n",
            "0.8124634146341464\n",
            "Iteration:  480\n",
            "[3 8 0 ... 7 4 7] [3 8 0 ... 7 4 7]\n",
            "0.8153170731707317\n",
            "Iteration:  490\n",
            "[3 8 0 ... 7 4 7] [3 8 0 ... 7 4 7]\n",
            "0.8181951219512195\n"
          ]
        }
      ]
    },
    {
      "cell_type": "code",
      "source": [
        "def make_predictions(X, w1, b1, w2, b2):\n",
        "    _, _, _, A2 = forward_prop(w1, b1, w2, b2, X)\n",
        "    predictions = get_predictions(A2)\n",
        "    return predictions\n",
        "\n",
        "def test_prediction(index, w1, b1, w2, b2):\n",
        "    current_image = X_train[:, index, None]\n",
        "    prediction = make_predictions(X_train[:, index, None], w1, b1, w2, b2)\n",
        "    label = Y_train[index]\n",
        "    print(\"Prediction: \", prediction)\n",
        "    print(\"Label: \", label)\n",
        "\n",
        "    current_image = current_image.reshape((28, 28)) * 255\n",
        "    plt.gray()\n",
        "    plt.imshow(current_image, interpolation='nearest')\n",
        "    plt.show()"
      ],
      "metadata": {
        "execution": {
          "iopub.status.busy": "2024-05-21T18:56:02.005426Z",
          "iopub.execute_input": "2024-05-21T18:56:02.006923Z",
          "iopub.status.idle": "2024-05-21T18:56:02.015354Z",
          "shell.execute_reply.started": "2024-05-21T18:56:02.006837Z",
          "shell.execute_reply": "2024-05-21T18:56:02.014035Z"
        },
        "trusted": true,
        "id": "nI660vsIiylF"
      },
      "execution_count": 14,
      "outputs": []
    },
    {
      "cell_type": "code",
      "source": [
        "test_prediction(125, w1, b1, w2, b2)"
      ],
      "metadata": {
        "execution": {
          "iopub.status.busy": "2024-05-21T18:57:11.170306Z",
          "iopub.execute_input": "2024-05-21T18:57:11.170714Z",
          "iopub.status.idle": "2024-05-21T18:57:11.402474Z",
          "shell.execute_reply.started": "2024-05-21T18:57:11.170687Z",
          "shell.execute_reply": "2024-05-21T18:57:11.401184Z"
        },
        "trusted": true,
        "colab": {
          "base_uri": "https://localhost:8080/",
          "height": 465
        },
        "id": "vkDf86jiiylF",
        "outputId": "c8141eab-11f0-457e-b9a3-8b8f5680691d"
      },
      "execution_count": 8,
      "outputs": [
        {
          "output_type": "stream",
          "name": "stdout",
          "text": [
            "Prediction:  <function get_predictions at 0x79158f384700>\n",
            "Label:  7\n"
          ]
        },
        {
          "output_type": "display_data",
          "data": {
            "text/plain": [
              "<Figure size 640x480 with 1 Axes>"
            ],
            "image/png": "[encoded data removed]"
          },
          "metadata": {}
        }
      ]
    },
    {
      "cell_type": "code",
      "source": [
        "dev_predictions = make_predictions(X_dev, w1, b1, w2, b2)\n",
        "get_accuracy(dev_predictions, Y_dev)"
      ],
      "metadata": {
        "execution": {
          "iopub.status.busy": "2024-05-21T18:58:56.325720Z",
          "iopub.execute_input": "2024-05-21T18:58:56.326193Z",
          "iopub.status.idle": "2024-05-21T18:58:56.346579Z",
          "shell.execute_reply.started": "2024-05-21T18:58:56.326107Z",
          "shell.execute_reply": "2024-05-21T18:58:56.345577Z"
        },
        "trusted": true,
        "colab": {
          "base_uri": "https://localhost:8080/"
        },
        "id": "LHaZZDsmiylG",
        "outputId": "39e66bdf-44c7-4cd9-ba00-b3619b7fa4c8"
      },
      "execution_count": 15,
      "outputs": [
        {
          "output_type": "stream",
          "name": "stdout",
          "text": [
            "[5 2 6 2 5 2 5 8 9 0 5 9 4 6 6 7 1 7 5 0 1 7 9 0 2 9 8 4 5 9 6 7 5 5 0 0 1\n",
            " 5 6 6 8 2 4 1 1 8 3 4 0 5 3 9 5 3 4 4 6 8 0 7 7 5 7 4 6 3 5 9 7 6 7 6 6 6\n",
            " 6 2 3 8 3 7 5 7 9 4 1 6 9 0 0 1 6 7 2 4 9 7 1 3 4 6 1 5 5 7 4 5 6 2 6 8 6\n",
            " 3 9 3 0 4 8 4 3 3 2 7 2 8 6 1 0 3 8 3 6 3 9 6 4 1 8 2 3 5 5 6 9 5 2 2 8 4\n",
            " 2 3 3 3 9 7 7 6 5 3 4 0 3 5 6 1 8 9 9 6 3 7 2 1 5 7 1 7 8 2 6 0 0 3 4 2 0\n",
            " 3 8 6 0 2 1 7 2 4 0 9 3 5 6 0 9 1 8 5 7 7 1 1 7 0 4 5 1 8 4 7 5 4 7 2 1 2\n",
            " 8 9 6 2 2 2 7 8 6 4 8 8 3 6 6 3 2 4 4 6 1 8 2 9 8 0 3 9 8 8 7 1 5 8 8 3 0\n",
            " 3 3 9 5 0 1 3 3 5 0 5 8 9 2 2 9 9 7 4 4 2 7 4 7 0 5 6 6 8 3 0 4 3 0 4 2 4\n",
            " 1 5 1 5 3 1 5 7 0 7 1 3 8 6 9 3 0 6 2 1 1 8 2 1 9 0 8 5 1 1 6 6 5 3 6 1 3\n",
            " 0 6 8 5 4 5 2 7 4 0 9 1 5 6 3 5 6 2 2 9 8 4 2 8 3 8 0 8 0 5 5 6 6 7 6 0 9\n",
            " 6 5 9 1 2 9 3 6 7 8 0 8 6 2 0 3 0 7 4 3 5 6 6 1 1 0 7 1 6 7 8 3 9 9 3 3 9\n",
            " 5 1 5 3 3 6 4 3 1 5 6 1 6 4 4 0 2 0 1 5 1 9 5 9 0 6 1 4 0 0 8 1 6 0 1 2 2\n",
            " 6 1 0 1 1 8 1 6 0 6 1 3 3 1 5 5 2 5 8 3 3 9 3 2 9 4 1 0 6 3 1 1 9 6 9 4 4\n",
            " 7 6 5 5 3 9 8 7 6 7 9 2 0 9 6 2 1 9 8 0 3 6 0 6 6 4 3 3 9 9 6 7 3 7 9 4 6\n",
            " 8 0 0 1 1 1 1 7 4 6 4 0 1 2 0 8 7 5 5 1 0 4 1 5 3 5 3 3 8 4 4 4 0 3 3 4 3\n",
            " 5 1 9 8 5 6 7 3 0 7 5 8 2 0 2 0 0 5 3 0 9 4 0 2 2 2 8 6 9 2 9 1 0 0 6 8 8\n",
            " 3 9 1 4 8 0 1 7 2 6 4 4 0 7 1 0 8 1 7 8 0 4 1 0 3 1 1 0 1 4 4 1 0 2 3 5 5\n",
            " 6 1 8 9 0 7 2 2 9 5 7 1 7 6 5 1 0 4 7 6 8 5 0 9 9 7 8 4 7 4 9 6 5 3 2 9 3\n",
            " 1 1 2 7 0 2 7 8 1 3 6 1 6 8 0 3 3 7 6 1 5 2 0 1 5 1 8 6 3 7 2 3 7 4 4 1 7\n",
            " 3 6 8 5 4 5 1 7 3 5 8 1 6 6 4 7 9 5 7 8 0 8 5 4 8 3 1 4 4 7 0 6 4 0 9 3 7\n",
            " 8 5 8 4 4 9 3 9 2 1 0 3 8 3 3 5 1 1 0 6 3 1 2 7 8 7 3 4 6 4 2 4 3 4 0 1 9\n",
            " 6 6 6 5 8 6 1 2 7 2 5 1 9 1 9 3 9 3 6 9 9 5 4 1 6 1 0 5 6 9 9 8 2 4 6 3 5\n",
            " 9 5 7 2 5 2 3 7 0 7 5 8 4 4 8 7 0 4 8 5 0 7 7 0 2 0 1 9 8 1 1 0 0 9 7 8 2\n",
            " 7 4 4 9 6 6 2 8 2 4 9 3 1 5 7 1 0 8 1 5 7 5 8 9 7 4 3 7 8 0 4 6 3 7 9 4 9\n",
            " 2 1 1 5 6 5 3 3 8 2 4 0 9 7 3 2 1 1 2 8 7 7 3 5 0 4 4 2 8 6 8 3 8 2 3 4 1\n",
            " 4 4 1 3 3 5 2 1 7 6 3 8 3 9 8 7 2 0 4 1 4 2 5 6 8 2 7 5 1 6 2 5 2 6 9 5 2\n",
            " 3 9 0 9 1 3 4 6 0 9 3 7 7 4 1 3 4 5 6 9 2 4 8 3 8 8 9 5 7 2 1 3 0 1 7 9 2\n",
            " 0] [5 2 6 2 5 2 5 8 9 0 8 9 4 6 6 7 1 9 5 0 1 7 9 0 2 9 8 9 5 9 6 7 5 5 0 7 1\n",
            " 5 6 2 5 2 4 1 7 8 3 4 0 5 3 9 5 3 5 4 6 8 0 7 7 6 7 4 2 3 5 9 7 8 7 6 6 6\n",
            " 6 8 3 8 3 7 5 7 9 4 1 6 9 0 0 1 6 7 2 4 9 7 1 3 4 6 1 5 8 7 4 5 6 6 6 2 2\n",
            " 3 9 3 0 4 3 4 3 3 2 9 8 8 2 1 0 1 8 3 6 3 4 6 4 1 8 2 3 5 5 6 7 5 2 2 8 4\n",
            " 2 3 3 3 8 7 7 6 5 3 4 0 3 5 6 1 8 9 9 6 3 8 2 1 9 7 1 7 8 2 6 0 0 3 4 5 7\n",
            " 8 8 6 0 2 1 9 2 4 0 9 9 5 6 0 9 1 8 0 7 7 1 1 7 0 4 5 1 8 4 7 5 4 7 2 1 2\n",
            " 8 9 6 2 2 2 7 8 6 4 4 8 3 6 6 3 2 4 4 6 1 8 2 9 2 0 3 9 8 4 7 1 5 8 8 5 0\n",
            " 3 3 7 5 0 8 3 3 5 0 5 5 7 2 2 9 8 8 4 4 3 2 4 9 0 5 6 6 8 3 0 4 3 0 4 5 4\n",
            " 1 5 1 3 3 1 5 7 0 7 1 3 8 6 9 3 0 6 1 1 1 8 2 1 7 0 5 5 1 1 6 6 3 3 6 1 3\n",
            " 0 6 8 5 4 5 2 7 4 0 5 1 5 4 8 9 6 2 1 9 8 4 2 8 3 8 0 8 0 5 0 6 6 5 4 0 5\n",
            " 6 5 9 1 2 8 3 6 9 8 0 0 6 8 0 3 0 7 4 3 5 6 6 1 1 0 7 1 6 7 8 8 9 9 7 5 9\n",
            " 5 1 5 3 3 6 4 2 1 6 0 2 6 4 4 0 2 0 1 5 7 9 3 9 0 6 1 4 0 0 8 1 6 0 1 2 2\n",
            " 6 1 0 1 1 8 1 6 0 6 1 3 3 1 5 5 7 5 4 3 3 9 3 2 4 4 1 0 6 3 1 1 9 6 9 4 4\n",
            " 7 6 5 0 3 9 5 7 6 7 9 2 5 9 6 2 1 9 8 0 3 9 0 6 6 4 3 3 9 9 6 7 5 7 9 4 6\n",
            " 8 0 0 1 1 1 1 1 7 4 4 5 1 2 0 8 9 9 5 1 0 4 3 5 3 5 3 3 8 4 4 4 0 3 3 4 8\n",
            " 3 1 9 8 0 6 7 3 0 7 5 8 2 0 2 0 0 5 3 0 9 4 0 2 3 2 8 6 9 2 9 1 0 0 6 8 8\n",
            " 3 9 1 4 8 0 1 7 2 6 4 4 0 7 1 0 8 1 7 8 0 4 1 0 3 1 1 0 1 4 9 8 0 5 2 5 3\n",
            " 3 5 5 5 0 7 2 3 9 3 7 1 7 6 5 1 0 4 7 6 8 5 0 7 9 7 3 4 7 4 9 6 5 3 2 8 3\n",
            " 1 1 9 3 0 2 7 8 1 3 6 1 6 8 0 3 3 7 6 1 5 2 0 1 8 7 8 9 3 7 2 3 7 4 4 5 5\n",
            " 3 6 8 5 4 8 1 7 3 5 8 1 6 6 4 7 9 8 7 8 0 8 5 4 8 3 1 9 4 7 0 0 4 0 9 3 7\n",
            " 8 5 5 4 4 9 3 9 2 1 0 0 5 3 3 5 1 1 0 6 3 1 2 7 8 7 3 4 6 4 3 4 3 4 0 1 4\n",
            " 5 8 6 0 8 6 1 3 7 2 5 1 9 1 4 2 8 3 6 4 9 5 4 1 6 1 0 5 6 9 9 8 6 4 6 3 5\n",
            " 9 3 7 8 5 2 3 7 9 7 5 2 4 9 8 7 4 6 8 5 0 7 7 8 2 0 1 9 8 6 1 0 0 9 7 8 2\n",
            " 7 4 4 9 6 6 5 3 2 4 9 5 1 5 9 1 0 8 1 5 7 5 8 9 7 4 3 7 8 0 5 6 3 7 9 5 9\n",
            " 7 1 1 5 0 0 3 2 8 2 4 7 7 7 3 2 1 1 4 2 7 7 3 5 5 4 4 2 8 6 8 3 0 2 3 9 1\n",
            " 4 4 1 8 8 5 2 1 7 6 3 8 3 9 8 7 2 0 4 1 4 2 5 6 8 2 7 3 1 6 6 3 2 6 9 5 2\n",
            " 8 9 0 9 1 2 4 6 0 9 3 7 7 4 2 5 4 5 6 8 2 4 8 3 8 8 7 3 7 2 1 5 0 1 7 9 2\n",
            " 0]\n"
          ]
        },
        {
          "output_type": "execute_result",
          "data": {
            "text/plain": [
              "0.83"
            ]
          },
          "metadata": {},
          "execution_count": 15
        }
      ]
    },
    {
      "cell_type": "code",
      "source": [
        "model = {'w1': w1, 'b1': b1, 'w2': w2, 'b2': b2}\n",
        "np.savez(\"model.npz\", **model)"
      ],
      "metadata": {
        "id": "8dFIxbv3nYJl"
      },
      "execution_count": 27,
      "outputs": []
    },
    {
      "cell_type": "code",
      "source": [
        "loaded_model = np.load(\"model.npz\")\n",
        "w1 = loaded_model['w1']\n",
        "b1 = loaded_model['b1']\n",
        "w2 = loaded_model['w2']\n",
        "b2 = loaded_model['b2']"
      ],
      "metadata": {
        "id": "CIPnID9vqOiC"
      },
      "execution_count": 28,
      "outputs": []
    },
    {
      "cell_type": "code",
      "source": [
        "dev_predictions = make_predictions(X_dev, w1, b1, w2, b2)\n",
        "get_accuracy(dev_predictions, Y_dev)"
      ],
      "metadata": {
        "colab": {
          "base_uri": "https://localhost:8080/"
        },
        "id": "-6GVR80NqT9I",
        "outputId": "7155bbf9-dd74-459f-e031-7700c45003ae"
      },
      "execution_count": 29,
      "outputs": [
        {
          "output_type": "stream",
          "name": "stdout",
          "text": [
            "[5 2 6 2 5 2 5 8 9 0 5 9 4 6 6 7 1 7 5 0 1 7 9 0 2 9 8 4 5 9 6 7 5 5 0 0 1\n",
            " 5 6 6 8 2 4 1 1 8 3 4 0 5 3 9 5 3 4 4 6 8 0 7 7 5 7 4 6 3 5 9 7 6 7 6 6 6\n",
            " 6 2 3 8 3 7 5 7 9 4 1 6 9 0 0 1 6 7 2 4 9 7 1 3 4 6 1 5 5 7 4 5 6 2 6 8 6\n",
            " 3 9 3 0 4 8 4 3 3 2 7 2 8 6 1 0 3 8 3 6 3 9 6 4 1 8 2 3 5 5 6 9 5 2 2 8 4\n",
            " 2 3 3 3 9 7 7 6 5 3 4 0 3 5 6 1 8 9 9 6 3 7 2 1 5 7 1 7 8 2 6 0 0 3 4 2 0\n",
            " 3 8 6 0 2 1 7 2 4 0 9 3 5 6 0 9 1 8 5 7 7 1 1 7 0 4 5 1 8 4 7 5 4 7 2 1 2\n",
            " 8 9 6 2 2 2 7 8 6 4 8 8 3 6 6 3 2 4 4 6 1 8 2 9 8 0 3 9 8 8 7 1 5 8 8 3 0\n",
            " 3 3 9 5 0 1 3 3 5 0 5 8 9 2 2 9 9 7 4 4 2 7 4 7 0 5 6 6 8 3 0 4 3 0 4 2 4\n",
            " 1 5 1 5 3 1 5 7 0 7 1 3 8 6 9 3 0 6 2 1 1 8 2 1 9 0 8 5 1 1 6 6 5 3 6 1 3\n",
            " 0 6 8 5 4 5 2 7 4 0 9 1 5 6 3 5 6 2 2 9 8 4 2 8 3 8 0 8 0 5 5 6 6 7 6 0 9\n",
            " 6 5 9 1 2 9 3 6 7 8 0 8 6 2 0 3 0 7 4 3 5 6 6 1 1 0 7 1 6 7 8 3 9 9 3 3 9\n",
            " 5 1 5 3 3 6 4 3 1 5 6 1 6 4 4 0 2 0 1 5 1 9 5 9 0 6 1 4 0 0 8 1 6 0 1 2 2\n",
            " 6 1 0 1 1 8 1 6 0 6 1 3 3 1 5 5 2 5 8 3 3 9 3 2 9 4 1 0 6 3 1 1 9 6 9 4 4\n",
            " 7 6 5 5 3 9 8 7 6 7 9 2 0 9 6 2 1 9 8 0 3 6 0 6 6 4 3 3 9 9 6 7 3 7 9 4 6\n",
            " 8 0 0 1 1 1 1 7 4 6 4 0 1 2 0 8 7 5 5 1 0 4 1 5 3 5 3 3 8 4 4 4 0 3 3 4 3\n",
            " 5 1 9 8 5 6 7 3 0 7 5 8 2 0 2 0 0 5 3 0 9 4 0 2 2 2 8 6 9 2 9 1 0 0 6 8 8\n",
            " 3 9 1 4 8 0 1 7 2 6 4 4 0 7 1 0 8 1 7 8 0 4 1 0 3 1 1 0 1 4 4 1 0 2 3 5 5\n",
            " 6 1 8 9 0 7 2 2 9 5 7 1 7 6 5 1 0 4 7 6 8 5 0 9 9 7 8 4 7 4 9 6 5 3 2 9 3\n",
            " 1 1 2 7 0 2 7 8 1 3 6 1 6 8 0 3 3 7 6 1 5 2 0 1 5 1 8 6 3 7 2 3 7 4 4 1 7\n",
            " 3 6 8 5 4 5 1 7 3 5 8 1 6 6 4 7 9 5 7 8 0 8 5 4 8 3 1 4 4 7 0 6 4 0 9 3 7\n",
            " 8 5 8 4 4 9 3 9 2 1 0 3 8 3 3 5 1 1 0 6 3 1 2 7 8 7 3 4 6 4 2 4 3 4 0 1 9\n",
            " 6 6 6 5 8 6 1 2 7 2 5 1 9 1 9 3 9 3 6 9 9 5 4 1 6 1 0 5 6 9 9 8 2 4 6 3 5\n",
            " 9 5 7 2 5 2 3 7 0 7 5 8 4 4 8 7 0 4 8 5 0 7 7 0 2 0 1 9 8 1 1 0 0 9 7 8 2\n",
            " 7 4 4 9 6 6 2 8 2 4 9 3 1 5 7 1 0 8 1 5 7 5 8 9 7 4 3 7 8 0 4 6 3 7 9 4 9\n",
            " 2 1 1 5 6 5 3 3 8 2 4 0 9 7 3 2 1 1 2 8 7 7 3 5 0 4 4 2 8 6 8 3 8 2 3 4 1\n",
            " 4 4 1 3 3 5 2 1 7 6 3 8 3 9 8 7 2 0 4 1 4 2 5 6 8 2 7 5 1 6 2 5 2 6 9 5 2\n",
            " 3 9 0 9 1 3 4 6 0 9 3 7 7 4 1 3 4 5 6 9 2 4 8 3 8 8 9 5 7 2 1 3 0 1 7 9 2\n",
            " 0] [5 2 6 2 5 2 5 8 9 0 8 9 4 6 6 7 1 9 5 0 1 7 9 0 2 9 8 9 5 9 6 7 5 5 0 7 1\n",
            " 5 6 2 5 2 4 1 7 8 3 4 0 5 3 9 5 3 5 4 6 8 0 7 7 6 7 4 2 3 5 9 7 8 7 6 6 6\n",
            " 6 8 3 8 3 7 5 7 9 4 1 6 9 0 0 1 6 7 2 4 9 7 1 3 4 6 1 5 8 7 4 5 6 6 6 2 2\n",
            " 3 9 3 0 4 3 4 3 3 2 9 8 8 2 1 0 1 8 3 6 3 4 6 4 1 8 2 3 5 5 6 7 5 2 2 8 4\n",
            " 2 3 3 3 8 7 7 6 5 3 4 0 3 5 6 1 8 9 9 6 3 8 2 1 9 7 1 7 8 2 6 0 0 3 4 5 7\n",
            " 8 8 6 0 2 1 9 2 4 0 9 9 5 6 0 9 1 8 0 7 7 1 1 7 0 4 5 1 8 4 7 5 4 7 2 1 2\n",
            " 8 9 6 2 2 2 7 8 6 4 4 8 3 6 6 3 2 4 4 6 1 8 2 9 2 0 3 9 8 4 7 1 5 8 8 5 0\n",
            " 3 3 7 5 0 8 3 3 5 0 5 5 7 2 2 9 8 8 4 4 3 2 4 9 0 5 6 6 8 3 0 4 3 0 4 5 4\n",
            " 1 5 1 3 3 1 5 7 0 7 1 3 8 6 9 3 0 6 1 1 1 8 2 1 7 0 5 5 1 1 6 6 3 3 6 1 3\n",
            " 0 6 8 5 4 5 2 7 4 0 5 1 5 4 8 9 6 2 1 9 8 4 2 8 3 8 0 8 0 5 0 6 6 5 4 0 5\n",
            " 6 5 9 1 2 8 3 6 9 8 0 0 6 8 0 3 0 7 4 3 5 6 6 1 1 0 7 1 6 7 8 8 9 9 7 5 9\n",
            " 5 1 5 3 3 6 4 2 1 6 0 2 6 4 4 0 2 0 1 5 7 9 3 9 0 6 1 4 0 0 8 1 6 0 1 2 2\n",
            " 6 1 0 1 1 8 1 6 0 6 1 3 3 1 5 5 7 5 4 3 3 9 3 2 4 4 1 0 6 3 1 1 9 6 9 4 4\n",
            " 7 6 5 0 3 9 5 7 6 7 9 2 5 9 6 2 1 9 8 0 3 9 0 6 6 4 3 3 9 9 6 7 5 7 9 4 6\n",
            " 8 0 0 1 1 1 1 1 7 4 4 5 1 2 0 8 9 9 5 1 0 4 3 5 3 5 3 3 8 4 4 4 0 3 3 4 8\n",
            " 3 1 9 8 0 6 7 3 0 7 5 8 2 0 2 0 0 5 3 0 9 4 0 2 3 2 8 6 9 2 9 1 0 0 6 8 8\n",
            " 3 9 1 4 8 0 1 7 2 6 4 4 0 7 1 0 8 1 7 8 0 4 1 0 3 1 1 0 1 4 9 8 0 5 2 5 3\n",
            " 3 5 5 5 0 7 2 3 9 3 7 1 7 6 5 1 0 4 7 6 8 5 0 7 9 7 3 4 7 4 9 6 5 3 2 8 3\n",
            " 1 1 9 3 0 2 7 8 1 3 6 1 6 8 0 3 3 7 6 1 5 2 0 1 8 7 8 9 3 7 2 3 7 4 4 5 5\n",
            " 3 6 8 5 4 8 1 7 3 5 8 1 6 6 4 7 9 8 7 8 0 8 5 4 8 3 1 9 4 7 0 0 4 0 9 3 7\n",
            " 8 5 5 4 4 9 3 9 2 1 0 0 5 3 3 5 1 1 0 6 3 1 2 7 8 7 3 4 6 4 3 4 3 4 0 1 4\n",
            " 5 8 6 0 8 6 1 3 7 2 5 1 9 1 4 2 8 3 6 4 9 5 4 1 6 1 0 5 6 9 9 8 6 4 6 3 5\n",
            " 9 3 7 8 5 2 3 7 9 7 5 2 4 9 8 7 4 6 8 5 0 7 7 8 2 0 1 9 8 6 1 0 0 9 7 8 2\n",
            " 7 4 4 9 6 6 5 3 2 4 9 5 1 5 9 1 0 8 1 5 7 5 8 9 7 4 3 7 8 0 5 6 3 7 9 5 9\n",
            " 7 1 1 5 0 0 3 2 8 2 4 7 7 7 3 2 1 1 4 2 7 7 3 5 5 4 4 2 8 6 8 3 0 2 3 9 1\n",
            " 4 4 1 8 8 5 2 1 7 6 3 8 3 9 8 7 2 0 4 1 4 2 5 6 8 2 7 3 1 6 6 3 2 6 9 5 2\n",
            " 8 9 0 9 1 2 4 6 0 9 3 7 7 4 2 5 4 5 6 8 2 4 8 3 8 8 7 3 7 2 1 5 0 1 7 9 2\n",
            " 0]\n"
          ]
        },
        {
          "output_type": "execute_result",
          "data": {
            "text/plain": [
              "0.83"
            ]
          },
          "metadata": {},
          "execution_count": 29
        }
      ]
    }
  ]
}